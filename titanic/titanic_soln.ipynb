{
 "cells": [
  {
   "cell_type": "code",
   "execution_count": 126,
   "id": "4fca1f8b",
   "metadata": {},
   "outputs": [],
   "source": [
    "# All Required imports\n",
    "import pandas as pd\n",
    "import numpy as np\n",
    "import torch\n",
    "import torch.nn as nn\n",
    "from torch.utils.data import Dataset, DataLoader\n",
    "device = \"cuda\" if torch.cuda.is_available() else \"cpu\""
   ]
  },
  {
   "cell_type": "code",
   "execution_count": 127,
   "id": "1d906e9e",
   "metadata": {},
   "outputs": [],
   "source": [
    "train_data = pd.read_csv('train.csv')\n",
    "test_data = pd.read_csv('test.csv')"
   ]
  },
  {
   "cell_type": "code",
   "execution_count": 175,
   "id": "575b2670",
   "metadata": {},
   "outputs": [],
   "source": [
    "def preProcessData(data):\n",
    "    test_df = data.drop(['Ticket','Name','PassengerId','Cabin'], axis=1)\n",
    "    test_df['Female'] = test_df['Sex'] == 'female'\n",
    "    test_df = test_df.drop('Sex', axis=1)\n",
    "    test_df['Embarked'] = test_df['Embarked'] == 'S'\n",
    "    test_df = test_df.dropna()\n",
    "    return test_df"
   ]
  },
  {
   "cell_type": "code",
   "execution_count": 211,
   "id": "3da8f913",
   "metadata": {},
   "outputs": [],
   "source": [
    "class TitanicDataset(Dataset):\n",
    "    def __init__(self, data_set):\n",
    "        self.data_set = data_set\n",
    "    def __len__(self):\n",
    "        return len(self.data_set)\n",
    "\n",
    "    def __getitem__(self, idx):\n",
    "        data = torch.tensor(self.data_set.loc[idx, test_df.columns != 'Survived'], dtype=torch.float32)\n",
    "        label = nn.functional.one_hot(torch.tensor(self.data_set.loc[idx, test_df.columns == 'Survived'], dtype=torch.int64),num_classes=2)\n",
    "        return data, label"
   ]
  },
  {
   "cell_type": "code",
   "execution_count": 212,
   "id": "26f9b661",
   "metadata": {},
   "outputs": [],
   "source": [
    "class NeuralNetwork(nn.Module):\n",
    "    def __init__(self):\n",
    "        super(NeuralNetwork,self).__init__()\n",
    "        self.simple_stack = nn.Sequential(\n",
    "            nn.Linear(7, 32),\n",
    "            nn.ReLU(),\n",
    "            nn.Linear(32, 16),\n",
    "            nn.ReLU(),\n",
    "            nn.Linear(16, 2),\n",
    "        )\n",
    "        \n",
    "    def forward(self, x):\n",
    "        x = self.simple_stack(x)\n",
    "        return x"
   ]
  },
  {
   "cell_type": "code",
   "execution_count": 213,
   "id": "62678ab8",
   "metadata": {},
   "outputs": [],
   "source": [
    "num_epochs = 5\n",
    "batch_size = 2\n",
    "lr = 0.005"
   ]
  },
  {
   "cell_type": "code",
   "execution_count": 214,
   "id": "96a60cfd",
   "metadata": {},
   "outputs": [],
   "source": [
    "ptrain_data = TitanicDataset(preProcessData(train_data))\n",
    "ptest_data = TitanicDataset(preProcessData(test_data))\n",
    "train_dataloader = DataLoader(ptrain_data, batch_size=1, shuffle=True)\n",
    "test_dataloader = DataLoader(ptest_data, batch_size=4, shuffle=True)"
   ]
  },
  {
   "cell_type": "code",
   "execution_count": null,
   "id": "fd5b2d27",
   "metadata": {},
   "outputs": [],
   "source": [
    "model = NeuralNetwork().to(device)\n",
    "optimizer = torch.optim.SGD(model.parameters(), lr=lr)\n",
    "loss_fn = nn.CrossEntropyLoss()\n",
    "\n",
    "for batch, (X, y) in enumerate(ptrain_data):\n",
    "    # Compute prediction and loss\n",
    "    pred = model(X.to(device))\n",
    "    print(pred)\n",
    "    print(y[0].to(device))\n",
    "    loss = loss_fn(pred, y[0].to(device).type(torch.float32))\n",
    "\n",
    "    # Backpropagation\n",
    "    optimizer.zero_grad()\n",
    "    loss.backward()\n",
    "    optimizer.step()\n",
    "\n",
    "    if batch % 10 == 0:\n",
    "        loss, current = loss.item(), batch * len(X)\n",
    "        print(f\"loss: {loss:>7f}  [{current:>5d}/{size:>5d}]\")\n",
    "\n"
   ]
  },
  {
   "cell_type": "code",
   "execution_count": null,
   "id": "9403a697",
   "metadata": {},
   "outputs": [],
   "source": []
  },
  {
   "cell_type": "code",
   "execution_count": null,
   "id": "a0c5b376",
   "metadata": {},
   "outputs": [],
   "source": []
  }
 ],
 "metadata": {
  "kernelspec": {
   "display_name": "Python 3 (ipykernel)",
   "language": "python",
   "name": "python3"
  },
  "language_info": {
   "codemirror_mode": {
    "name": "ipython",
    "version": 3
   },
   "file_extension": ".py",
   "mimetype": "text/x-python",
   "name": "python",
   "nbconvert_exporter": "python",
   "pygments_lexer": "ipython3",
   "version": "3.7.13"
  }
 },
 "nbformat": 4,
 "nbformat_minor": 5
}
