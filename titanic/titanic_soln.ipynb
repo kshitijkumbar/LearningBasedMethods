{
 "cells": [
  {
   "cell_type": "code",
   "execution_count": 1,
   "id": "4fca1f8b",
   "metadata": {},
   "outputs": [],
   "source": [
    "# All Required imports\n",
    "import pandas as pd\n",
    "import numpy as np\n",
    "import torch\n",
    "import torch.nn as nn\n",
    "from torch.utils.data import Dataset, DataLoader\n",
    "device = \"cuda\" if torch.cuda.is_available() else \"cpu\""
   ]
  },
  {
   "cell_type": "code",
   "execution_count": 25,
   "id": "1d906e9e",
   "metadata": {},
   "outputs": [],
   "source": [
    "train_data = pd.read_csv('train.csv')\n",
    "test_data = pd.read_csv('test.csv')"
   ]
  },
  {
   "cell_type": "code",
   "execution_count": 26,
   "id": "575b2670",
   "metadata": {},
   "outputs": [],
   "source": [
    "def preProcessData(data,is_test=False):\n",
    "    test_df = data.drop(['Ticket','Name','Cabin'], axis=1)\n",
    "    test_df['Female'] = test_df['Sex'] == 'female'\n",
    "    test_df = test_df.drop('Sex', axis=1)\n",
    "    test_df['Embarked'] = test_df['Embarked'] == 'S'\n",
    "    if not is_test:\n",
    "        test_df = test_df.dropna()\n",
    "    return test_df"
   ]
  },
  {
   "cell_type": "code",
   "execution_count": 27,
   "id": "460307d7",
   "metadata": {},
   "outputs": [],
   "source": [
    "class TitanicDataset(Dataset):\n",
    "    def __init__(self, data_set):\n",
    "        self.data_set = data_set\n",
    "    def __len__(self):\n",
    "        return len(self.data_set)\n",
    "\n",
    "    def __getitem__(self, idx):\n",
    "#         print(f\"Index: {idx}\")\n",
    "        data = torch.tensor(self.data_set.iloc[idx, ~self.data_set.columns.isin(['Survived','PassengerId'])], dtype=torch.float32)\n",
    "        label = nn.functional.one_hot(torch.tensor(self.data_set.iloc[idx, self.data_set.columns == 'Survived'], dtype=torch.int64),num_classes=2)\n",
    "        return data, label"
   ]
  },
  {
   "cell_type": "code",
   "execution_count": 44,
   "id": "0b080297",
   "metadata": {},
   "outputs": [],
   "source": [
    "class NeuralNetwork(nn.Module):\n",
    "    def __init__(self):\n",
    "        super(NeuralNetwork,self).__init__()\n",
    "        self.simple_stack = nn.Sequential(\n",
    "            nn.Linear(7, 32),\n",
    "            nn.ReLU(),\n",
    "            nn.Linear(32, 32),\n",
    "            nn.ReLU(),\n",
    "            nn.Linear(32, 16),\n",
    "            nn.ReLU(),\n",
    "            nn.Linear(16, 2),\n",
    "        )\n",
    "        \n",
    "    def forward(self, x):\n",
    "        x = self.simple_stack(x)\n",
    "        return x"
   ]
  },
  {
   "cell_type": "code",
   "execution_count": 66,
   "id": "21b13e1c",
   "metadata": {},
   "outputs": [],
   "source": [
    "num_epochs = 200\n",
    "batch_size = 2\n",
    "lr = 0.0007"
   ]
  },
  {
   "cell_type": "code",
   "execution_count": 67,
   "id": "bf6e598d",
   "metadata": {},
   "outputs": [
    {
     "name": "stdout",
     "output_type": "stream",
     "text": [
      "Pclass           3\n",
      "Age           34.5\n",
      "SibSp            0\n",
      "Parch            0\n",
      "Fare        7.8292\n",
      "Embarked     False\n",
      "Female       False\n",
      "Name: 0, dtype: object\n",
      "     PassengerId  Pclass                                          Name  \\\n",
      "0            892       3                              Kelly, Mr. James   \n",
      "1            893       3              Wilkes, Mrs. James (Ellen Needs)   \n",
      "2            894       2                     Myles, Mr. Thomas Francis   \n",
      "3            895       3                              Wirz, Mr. Albert   \n",
      "4            896       3  Hirvonen, Mrs. Alexander (Helga E Lindqvist)   \n",
      "..           ...     ...                                           ...   \n",
      "413         1305       3                            Spector, Mr. Woolf   \n",
      "414         1306       1                  Oliva y Ocana, Dona. Fermina   \n",
      "415         1307       3                  Saether, Mr. Simon Sivertsen   \n",
      "416         1308       3                           Ware, Mr. Frederick   \n",
      "417         1309       3                      Peter, Master. Michael J   \n",
      "\n",
      "        Sex   Age  SibSp  Parch              Ticket      Fare Cabin Embarked  \n",
      "0      male  34.5      0      0              330911    7.8292   NaN        Q  \n",
      "1    female  47.0      1      0              363272    7.0000   NaN        S  \n",
      "2      male  62.0      0      0              240276    9.6875   NaN        Q  \n",
      "3      male  27.0      0      0              315154    8.6625   NaN        S  \n",
      "4    female  22.0      1      1             3101298   12.2875   NaN        S  \n",
      "..      ...   ...    ...    ...                 ...       ...   ...      ...  \n",
      "413    male   NaN      0      0           A.5. 3236    8.0500   NaN        S  \n",
      "414  female  39.0      0      0            PC 17758  108.9000  C105        C  \n",
      "415    male  38.5      0      0  SOTON/O.Q. 3101262    7.2500   NaN        S  \n",
      "416    male   NaN      0      0              359309    8.0500   NaN        S  \n",
      "417    male   NaN      1      1                2668   22.3583   NaN        C  \n",
      "\n",
      "[418 rows x 11 columns]\n"
     ]
    }
   ],
   "source": [
    "ptrain_data = TitanicDataset(preProcessData(train_data))\n",
    "ptest_data = TitanicDataset(preProcessData(test_data, is_test=True))\n",
    "print(ptest_data.data_set.iloc[0,~ptest_data.data_set.columns.isin(['Survived','PassengerId'])])\n",
    "print(test_data)\n",
    "train_dataloader = DataLoader(ptrain_data, batch_size=1, shuffle=True)\n",
    "test_dataloader = DataLoader(ptest_data, batch_size=4, shuffle=True)"
   ]
  },
  {
   "cell_type": "code",
   "execution_count": 70,
   "id": "badd5635",
   "metadata": {},
   "outputs": [],
   "source": [
    "model = NeuralNetwork().to(device)\n",
    "optimizer = torch.optim.SGD(model.parameters(), lr=lr, momentum=0.7)\n",
    "loss_fn = nn.CrossEntropyLoss()"
   ]
  },
  {
   "cell_type": "code",
   "execution_count": null,
   "id": "b9567343",
   "metadata": {},
   "outputs": [
    {
     "name": "stdout",
     "output_type": "stream",
     "text": [
      "Epoch 0, Loss: 0.2616930305957794\n",
      "Epoch 1, Loss: 0.28006258606910706\n",
      "Epoch 2, Loss: 0.25322332978248596\n",
      "Epoch 3, Loss: 0.25371211767196655\n",
      "Epoch 4, Loss: 0.2442663162946701\n",
      "Epoch 5, Loss: 0.24345530569553375\n",
      "Epoch 6, Loss: 0.24142445623874664\n",
      "Epoch 7, Loss: 0.23993222415447235\n",
      "Epoch 8, Loss: 0.24295513331890106\n",
      "Epoch 9, Loss: 0.2520650625228882\n",
      "Epoch 10, Loss: 0.2514893710613251\n",
      "Epoch 11, Loss: 0.24763405323028564\n",
      "Epoch 12, Loss: 0.24609887599945068\n",
      "Epoch 13, Loss: 0.24031983315944672\n",
      "Epoch 14, Loss: 0.21751776337623596\n",
      "Epoch 15, Loss: 0.2171425074338913\n",
      "Epoch 16, Loss: 0.21179543435573578\n",
      "Epoch 17, Loss: 0.1995636373758316\n",
      "Epoch 18, Loss: 0.1872711181640625\n",
      "Epoch 19, Loss: 0.18471603095531464\n",
      "Epoch 20, Loss: 0.1818184107542038\n",
      "Epoch 21, Loss: 0.1781008392572403\n",
      "Epoch 22, Loss: 0.16804197430610657\n",
      "Epoch 23, Loss: 0.16827210783958435\n",
      "Epoch 24, Loss: 0.16571682691574097\n",
      "Epoch 25, Loss: 0.1509459763765335\n",
      "Epoch 26, Loss: 0.14339575171470642\n",
      "Epoch 27, Loss: 0.14329174160957336\n",
      "Epoch 28, Loss: 0.13907857239246368\n",
      "Epoch 29, Loss: 0.13537640869617462\n",
      "Epoch 30, Loss: 0.1280789077281952\n",
      "Epoch 31, Loss: 0.131004199385643\n",
      "Epoch 32, Loss: 0.1199151873588562\n",
      "Epoch 33, Loss: 0.10604193061590195\n",
      "Epoch 34, Loss: 0.11311781406402588\n",
      "Epoch 35, Loss: 0.11320904642343521\n",
      "Epoch 36, Loss: 0.10712721943855286\n",
      "Epoch 37, Loss: 0.10615547001361847\n",
      "Epoch 38, Loss: 0.0952746570110321\n",
      "Epoch 39, Loss: 0.09952834248542786\n",
      "Epoch 40, Loss: 0.09282637387514114\n",
      "Epoch 41, Loss: 0.08914785832166672\n",
      "Epoch 42, Loss: 0.08576850593090057\n",
      "Epoch 43, Loss: 0.07910895347595215\n",
      "Epoch 44, Loss: 0.08200117945671082\n",
      "Epoch 45, Loss: 0.08060181140899658\n",
      "Epoch 46, Loss: 0.08021329343318939\n",
      "Epoch 47, Loss: 0.08745245635509491\n",
      "Epoch 48, Loss: 0.07921270281076431\n",
      "Epoch 49, Loss: 0.06931734085083008\n",
      "Epoch 50, Loss: 0.08151431381702423\n",
      "Epoch 51, Loss: 0.06963895261287689\n",
      "Epoch 52, Loss: 0.06568802148103714\n",
      "Epoch 53, Loss: 0.06415930390357971\n",
      "Epoch 54, Loss: 0.06028876081109047\n",
      "Epoch 55, Loss: 0.06970088183879852\n",
      "Epoch 56, Loss: 0.07215723395347595\n",
      "Epoch 57, Loss: 0.06129275634884834\n",
      "Epoch 58, Loss: 0.06325643509626389\n",
      "Epoch 59, Loss: 0.059444960206747055\n",
      "Epoch 60, Loss: 0.059233423322439194\n",
      "Epoch 61, Loss: 0.06079985946416855\n",
      "Epoch 62, Loss: 0.05997759848833084\n",
      "Epoch 63, Loss: 0.06864408403635025\n",
      "Epoch 64, Loss: 0.05621747672557831\n",
      "Epoch 65, Loss: 0.05836590379476547\n",
      "Epoch 66, Loss: 0.061579521745443344\n",
      "Epoch 67, Loss: 0.05869712680578232\n",
      "Epoch 68, Loss: 0.04510829597711563\n",
      "Epoch 69, Loss: 0.06266138702630997\n",
      "Epoch 70, Loss: 0.05364048480987549\n",
      "Epoch 71, Loss: 0.05594010278582573\n",
      "Epoch 72, Loss: 0.0560368150472641\n",
      "Epoch 73, Loss: 0.04787212610244751\n",
      "Epoch 74, Loss: 0.05749335512518883\n",
      "Epoch 75, Loss: 0.057410743087530136\n",
      "Epoch 76, Loss: 0.04072364792227745\n",
      "Epoch 77, Loss: 0.043931055814027786\n",
      "Epoch 78, Loss: 0.04528604447841644\n",
      "Epoch 79, Loss: 0.06060408800840378\n",
      "Epoch 80, Loss: 0.055256761610507965\n",
      "Epoch 81, Loss: 0.04735494405031204\n",
      "Epoch 82, Loss: 0.05199703574180603\n"
     ]
    }
   ],
   "source": [
    "for epoch in range(num_epochs):\n",
    "    for batch, (X, y) in enumerate(ptrain_data):\n",
    "        # Compute prediction and loss\n",
    "            pred = model(X.to(device))\n",
    "            loss = loss_fn(pred, y[0].to(device).type(torch.float32))\n",
    "\n",
    "            # Backpropagation\n",
    "            optimizer.zero_grad()\n",
    "            loss.backward()\n",
    "            optimizer.step()\n",
    "\n",
    "#             if batch % 10 == 0:\n",
    "#                 loss, current = loss.item(), batch * len(X)\n",
    "#                 print(f\"loss: {loss:>7f} \")\n",
    "    print(f\"Epoch {epoch}, Loss: {loss}\")"
   ]
  },
  {
   "cell_type": "code",
   "execution_count": 58,
   "id": "99fde5dd",
   "metadata": {},
   "outputs": [
    {
     "name": "stderr",
     "output_type": "stream",
     "text": [
      "C:\\Users\\Kshitij\\anaconda3\\envs\\pytorch\\lib\\site-packages\\ipykernel_launcher.py:10: UserWarning: Implicit dimension choice for softmax has been deprecated. Change the call to include dim=X as an argument.\n",
      "  # Remove the CWD from sys.path while we load stuff.\n"
     ]
    },
    {
     "name": "stdout",
     "output_type": "stream",
     "text": [
      "     PassengerId  Survived\n",
      "0            892         0\n",
      "1            893         0\n",
      "2            894         0\n",
      "3            895         0\n",
      "4            896         0\n",
      "..           ...       ...\n",
      "413         1305         0\n",
      "414         1306         1\n",
      "415         1307         0\n",
      "416         1308         0\n",
      "417         1309         0\n",
      "\n",
      "[418 rows x 2 columns]\n"
     ]
    }
   ],
   "source": [
    "pass_id = []\n",
    "survived = []\n",
    "\n",
    "for batch, (X, y) in enumerate(ptest_data):\n",
    "    # Compute prediction and loss\n",
    "    pred = model(X.to(device))\n",
    "\n",
    "#     print(f\"{ptest_data.data_set.iloc[batch, ptest_data.data_set.columns == 'PassengerId' ]['PassengerId']} softmax: {torch.argmax(nn.Softmax()(pred))}\")\n",
    "    pass_id.append(ptest_data.data_set.iloc[batch, ptest_data.data_set.columns == 'PassengerId' ]['PassengerId'])\n",
    "    survived.append(int(torch.argmax(nn.Softmax()(pred))))\n",
    "\n",
    "solution = pd.DataFrame()\n",
    "solution['PassengerId'] = pass_id\n",
    "solution['Survived'] = survived\n",
    "\n",
    "print(solution)\n",
    "solution.to_csv(\"solution.csv\", index=False)"
   ]
  },
  {
   "cell_type": "code",
   "execution_count": null,
   "id": "fabf0afd",
   "metadata": {},
   "outputs": [],
   "source": []
  }
 ],
 "metadata": {
  "kernelspec": {
   "display_name": "Python 3 (ipykernel)",
   "language": "python",
   "name": "python3"
  },
  "language_info": {
   "codemirror_mode": {
    "name": "ipython",
    "version": 3
   },
   "file_extension": ".py",
   "mimetype": "text/x-python",
   "name": "python",
   "nbconvert_exporter": "python",
   "pygments_lexer": "ipython3",
   "version": "3.7.13"
  }
 },
 "nbformat": 4,
 "nbformat_minor": 5
}
