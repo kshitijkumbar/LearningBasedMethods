{
 "cells": [
  {
   "cell_type": "code",
   "execution_count": 25,
   "id": "f40cd0a5",
   "metadata": {},
   "outputs": [],
   "source": [
    "import pandas as pd\n",
    "import numpy as np\n",
    "import matplotlib.pyplot as plt\n",
    "import seaborn as sns\n",
    "\n",
    "from sklearn import datasets\n",
    "from sklearn import tree\n",
    "from sklearn.model_selection import train_test_split\n",
    "\n",
    "iris = datasets.load_iris()"
   ]
  },
  {
   "cell_type": "code",
   "execution_count": 38,
   "id": "c5f73214",
   "metadata": {},
   "outputs": [],
   "source": [
    "dataset = pd.DataFrame(iris['data'], columns=iris['feature_names'])\n",
    "dataset['label'] = iris['target']\n",
    "dataset_train, dataset_test = train_test_split(dataset, test_size=0.33, random_state=42)\n",
    "tree_model = tree.DecisionTreeClassifier()\n",
    "tree_model = tree_model.fit(dataset_train.loc[:, dataset_train.columns != 'label'],dataset_train['label'])"
   ]
  },
  {
   "cell_type": "code",
   "execution_count": 39,
   "id": "ded4a7d5",
   "metadata": {},
   "outputs": [
    {
     "data": {
      "text/plain": [
       "[Text(0.5416666666666666, 0.9285714285714286, 'X[3] <= 0.8\\ngini = 0.666\\nsamples = 100\\nvalue = [31, 35, 34]'),\n",
       " Text(0.4583333333333333, 0.7857142857142857, 'gini = 0.0\\nsamples = 31\\nvalue = [31, 0, 0]'),\n",
       " Text(0.625, 0.7857142857142857, 'X[3] <= 1.75\\ngini = 0.5\\nsamples = 69\\nvalue = [0, 35, 34]'),\n",
       " Text(0.4166666666666667, 0.6428571428571429, 'X[2] <= 5.35\\ngini = 0.188\\nsamples = 38\\nvalue = [0, 34, 4]'),\n",
       " Text(0.3333333333333333, 0.5, 'X[3] <= 1.65\\ngini = 0.105\\nsamples = 36\\nvalue = [0, 34, 2]'),\n",
       " Text(0.16666666666666666, 0.35714285714285715, 'X[2] <= 4.95\\ngini = 0.057\\nsamples = 34\\nvalue = [0, 33, 1]'),\n",
       " Text(0.08333333333333333, 0.21428571428571427, 'gini = 0.0\\nsamples = 32\\nvalue = [0, 32, 0]'),\n",
       " Text(0.25, 0.21428571428571427, 'X[3] <= 1.55\\ngini = 0.5\\nsamples = 2\\nvalue = [0, 1, 1]'),\n",
       " Text(0.16666666666666666, 0.07142857142857142, 'gini = 0.0\\nsamples = 1\\nvalue = [0, 0, 1]'),\n",
       " Text(0.3333333333333333, 0.07142857142857142, 'gini = 0.0\\nsamples = 1\\nvalue = [0, 1, 0]'),\n",
       " Text(0.5, 0.35714285714285715, 'X[1] <= 2.75\\ngini = 0.5\\nsamples = 2\\nvalue = [0, 1, 1]'),\n",
       " Text(0.4166666666666667, 0.21428571428571427, 'gini = 0.0\\nsamples = 1\\nvalue = [0, 0, 1]'),\n",
       " Text(0.5833333333333334, 0.21428571428571427, 'gini = 0.0\\nsamples = 1\\nvalue = [0, 1, 0]'),\n",
       " Text(0.5, 0.5, 'gini = 0.0\\nsamples = 2\\nvalue = [0, 0, 2]'),\n",
       " Text(0.8333333333333334, 0.6428571428571429, 'X[2] <= 4.85\\ngini = 0.062\\nsamples = 31\\nvalue = [0, 1, 30]'),\n",
       " Text(0.75, 0.5, 'X[0] <= 5.95\\ngini = 0.444\\nsamples = 3\\nvalue = [0, 1, 2]'),\n",
       " Text(0.6666666666666666, 0.35714285714285715, 'gini = 0.0\\nsamples = 1\\nvalue = [0, 1, 0]'),\n",
       " Text(0.8333333333333334, 0.35714285714285715, 'gini = 0.0\\nsamples = 2\\nvalue = [0, 0, 2]'),\n",
       " Text(0.9166666666666666, 0.5, 'gini = 0.0\\nsamples = 28\\nvalue = [0, 0, 28]')]"
      ]
     },
     "execution_count": 39,
     "metadata": {},
     "output_type": "execute_result"
    },
    {
     "data": {
      "image/png": "[encoded data removed]",
      "text/plain": [
       "<Figure size 432x288 with 1 Axes>"
      ]
     },
     "metadata": {
      "needs_background": "light"
     },
     "output_type": "display_data"
    }
   ],
   "source": [
    "tree.plot_tree(tree_model)"
   ]
  },
  {
   "cell_type": "code",
   "execution_count": 43,
   "id": "d4e7cb34",
   "metadata": {},
   "outputs": [
    {
     "name": "stdout",
     "output_type": "stream",
     "text": [
      "73     True\n",
      "18     True\n",
      "118    True\n",
      "78     True\n",
      "76     True\n",
      "31     True\n",
      "64     True\n",
      "141    True\n",
      "68     True\n",
      "82     True\n",
      "110    True\n",
      "12     True\n",
      "36     True\n",
      "9      True\n",
      "19     True\n",
      "56     True\n",
      "104    True\n",
      "69     True\n",
      "55     True\n",
      "132    True\n",
      "29     True\n",
      "127    True\n",
      "26     True\n",
      "128    True\n",
      "131    True\n",
      "145    True\n",
      "108    True\n",
      "143    True\n",
      "45     True\n",
      "30     True\n",
      "22     True\n",
      "15     True\n",
      "65     True\n",
      "11     True\n",
      "42     True\n",
      "146    True\n",
      "51     True\n",
      "27     True\n",
      "4      True\n",
      "32     True\n",
      "142    True\n",
      "85     True\n",
      "86     True\n",
      "16     True\n",
      "10     True\n",
      "81     True\n",
      "133    True\n",
      "137    True\n",
      "75     True\n",
      "109    True\n",
      "Name: label, dtype: bool\n",
      "Test accuracy is 1.0\n"
     ]
    }
   ],
   "source": [
    "test_preds = tree_model.predict(dataset_test.loc[:, dataset_test.columns != 'label'])\n",
    "test_accuracy = sum(dataset_test['label'] == test_preds)/len(test_preds)\n",
    "print(f\"Test accuracy is {test_accuracy}\")"
   ]
  },
  {
   "cell_type": "code",
   "execution_count": null,
   "id": "59933535",
   "metadata": {},
   "outputs": [],
   "source": []
  }
 ],
 "metadata": {
  "kernelspec": {
   "display_name": "Python 3 (ipykernel)",
   "language": "python",
   "name": "python3"
  },
  "language_info": {
   "codemirror_mode": {
    "name": "ipython",
    "version": 3
   },
   "file_extension": ".py",
   "mimetype": "text/x-python",
   "name": "python",
   "nbconvert_exporter": "python",
   "pygments_lexer": "ipython3",
   "version": "3.9.13"
  }
 },
 "nbformat": 4,
 "nbformat_minor": 5
}
