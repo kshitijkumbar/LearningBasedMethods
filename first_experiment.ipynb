{
  "cells": [
    {
      "cell_type": "markdown",
      "metadata": {
        "id": "view-in-github",
        "colab_type": "text"
      },
      "source": [
        "<a href=\"https://colab.research.google.com/github/kshitijkumbar/LearningBasedMethods/blob/test_branch/first_experiment.ipynb\" target=\"_parent\"><img src=\"https://colab.research.google.com/assets/colab-badge.svg\" alt=\"Open In Colab\"/></a>"
      ]
    },
    {
      "cell_type": "code",
      "execution_count": 19,
      "id": "bab26e4d-385f-460d-812a-5f541b079bf6",
      "metadata": {
        "execution": {
          "iopub.execute_input": "2022-05-07T04:02:23.109335Z",
          "iopub.status.busy": "2022-05-07T04:02:23.108324Z",
          "iopub.status.idle": "2022-05-07T04:02:27.479325Z",
          "shell.execute_reply": "2022-05-07T04:02:27.478498Z",
          "shell.execute_reply.started": "2022-05-07T04:02:23.109220Z"
        },
        "colab": {
          "base_uri": "https://localhost:8080/"
        },
        "id": "bab26e4d-385f-460d-812a-5f541b079bf6",
        "outputId": "833fa286-df17-438e-d6e9-3db1a39b8d6a"
      },
      "outputs": [
        {
          "output_type": "stream",
          "name": "stdout",
          "text": [
            "Requirement already satisfied: ipywidgets in /usr/local/lib/python3.7/dist-packages (7.7.0)\n",
            "Requirement already satisfied: ipython-genutils~=0.2.0 in /usr/local/lib/python3.7/dist-packages (from ipywidgets) (0.2.0)\n",
            "Requirement already satisfied: ipython>=4.0.0 in /usr/local/lib/python3.7/dist-packages (from ipywidgets) (5.5.0)\n",
            "Requirement already satisfied: nbformat>=4.2.0 in /usr/local/lib/python3.7/dist-packages (from ipywidgets) (5.3.0)\n",
            "Requirement already satisfied: ipykernel>=4.5.1 in /usr/local/lib/python3.7/dist-packages (from ipywidgets) (4.10.1)\n",
            "Requirement already satisfied: jupyterlab-widgets>=1.0.0 in /usr/local/lib/python3.7/dist-packages (from ipywidgets) (1.1.0)\n",
            "Requirement already satisfied: traitlets>=4.3.1 in /usr/local/lib/python3.7/dist-packages (from ipywidgets) (5.1.1)\n",
            "Requirement already satisfied: widgetsnbextension~=3.6.0 in /usr/local/lib/python3.7/dist-packages (from ipywidgets) (3.6.0)\n",
            "Requirement already satisfied: jupyter-client in /usr/local/lib/python3.7/dist-packages (from ipykernel>=4.5.1->ipywidgets) (5.3.5)\n",
            "Requirement already satisfied: tornado>=4.0 in /usr/local/lib/python3.7/dist-packages (from ipykernel>=4.5.1->ipywidgets) (5.1.1)\n",
            "Requirement already satisfied: simplegeneric>0.8 in /usr/local/lib/python3.7/dist-packages (from ipython>=4.0.0->ipywidgets) (0.8.1)\n",
            "Requirement already satisfied: pickleshare in /usr/local/lib/python3.7/dist-packages (from ipython>=4.0.0->ipywidgets) (0.7.5)\n",
            "Requirement already satisfied: setuptools>=18.5 in /usr/local/lib/python3.7/dist-packages (from ipython>=4.0.0->ipywidgets) (57.4.0)\n",
            "Requirement already satisfied: pygments in /usr/local/lib/python3.7/dist-packages (from ipython>=4.0.0->ipywidgets) (2.6.1)\n",
            "Requirement already satisfied: pexpect in /usr/local/lib/python3.7/dist-packages (from ipython>=4.0.0->ipywidgets) (4.8.0)\n",
            "Requirement already satisfied: prompt-toolkit<2.0.0,>=1.0.4 in /usr/local/lib/python3.7/dist-packages (from ipython>=4.0.0->ipywidgets) (1.0.18)\n",
            "Requirement already satisfied: decorator in /usr/local/lib/python3.7/dist-packages (from ipython>=4.0.0->ipywidgets) (4.4.2)\n",
            "Requirement already satisfied: fastjsonschema in /usr/local/lib/python3.7/dist-packages (from nbformat>=4.2.0->ipywidgets) (2.15.3)\n",
            "Requirement already satisfied: jupyter-core in /usr/local/lib/python3.7/dist-packages (from nbformat>=4.2.0->ipywidgets) (4.10.0)\n",
            "Requirement already satisfied: jsonschema>=2.6 in /usr/local/lib/python3.7/dist-packages (from nbformat>=4.2.0->ipywidgets) (4.3.3)\n",
            "Requirement already satisfied: typing-extensions in /usr/local/lib/python3.7/dist-packages (from jsonschema>=2.6->nbformat>=4.2.0->ipywidgets) (4.2.0)\n",
            "Requirement already satisfied: importlib-metadata in /usr/local/lib/python3.7/dist-packages (from jsonschema>=2.6->nbformat>=4.2.0->ipywidgets) (4.11.3)\n",
            "Requirement already satisfied: pyrsistent!=0.17.0,!=0.17.1,!=0.17.2,>=0.14.0 in /usr/local/lib/python3.7/dist-packages (from jsonschema>=2.6->nbformat>=4.2.0->ipywidgets) (0.18.1)\n",
            "Requirement already satisfied: attrs>=17.4.0 in /usr/local/lib/python3.7/dist-packages (from jsonschema>=2.6->nbformat>=4.2.0->ipywidgets) (21.4.0)\n",
            "Requirement already satisfied: importlib-resources>=1.4.0 in /usr/local/lib/python3.7/dist-packages (from jsonschema>=2.6->nbformat>=4.2.0->ipywidgets) (5.7.1)\n",
            "Requirement already satisfied: zipp>=3.1.0 in /usr/local/lib/python3.7/dist-packages (from importlib-resources>=1.4.0->jsonschema>=2.6->nbformat>=4.2.0->ipywidgets) (3.8.0)\n",
            "Requirement already satisfied: wcwidth in /usr/local/lib/python3.7/dist-packages (from prompt-toolkit<2.0.0,>=1.0.4->ipython>=4.0.0->ipywidgets) (0.2.5)\n",
            "Requirement already satisfied: six>=1.9.0 in /usr/local/lib/python3.7/dist-packages (from prompt-toolkit<2.0.0,>=1.0.4->ipython>=4.0.0->ipywidgets) (1.15.0)\n",
            "Requirement already satisfied: notebook>=4.4.1 in /usr/local/lib/python3.7/dist-packages (from widgetsnbextension~=3.6.0->ipywidgets) (5.3.1)\n",
            "Requirement already satisfied: nbconvert in /usr/local/lib/python3.7/dist-packages (from notebook>=4.4.1->widgetsnbextension~=3.6.0->ipywidgets) (5.6.1)\n",
            "Requirement already satisfied: Send2Trash in /usr/local/lib/python3.7/dist-packages (from notebook>=4.4.1->widgetsnbextension~=3.6.0->ipywidgets) (1.8.0)\n",
            "Requirement already satisfied: terminado>=0.8.1 in /usr/local/lib/python3.7/dist-packages (from notebook>=4.4.1->widgetsnbextension~=3.6.0->ipywidgets) (0.13.3)\n",
            "Requirement already satisfied: jinja2 in /usr/local/lib/python3.7/dist-packages (from notebook>=4.4.1->widgetsnbextension~=3.6.0->ipywidgets) (2.11.3)\n",
            "Requirement already satisfied: pyzmq>=13 in /usr/local/lib/python3.7/dist-packages (from jupyter-client->ipykernel>=4.5.1->ipywidgets) (22.3.0)\n",
            "Requirement already satisfied: python-dateutil>=2.1 in /usr/local/lib/python3.7/dist-packages (from jupyter-client->ipykernel>=4.5.1->ipywidgets) (2.8.2)\n",
            "Requirement already satisfied: ptyprocess in /usr/local/lib/python3.7/dist-packages (from terminado>=0.8.1->notebook>=4.4.1->widgetsnbextension~=3.6.0->ipywidgets) (0.7.0)\n",
            "Requirement already satisfied: MarkupSafe>=0.23 in /usr/local/lib/python3.7/dist-packages (from jinja2->notebook>=4.4.1->widgetsnbextension~=3.6.0->ipywidgets) (2.0.1)\n",
            "Requirement already satisfied: pandocfilters>=1.4.1 in /usr/local/lib/python3.7/dist-packages (from nbconvert->notebook>=4.4.1->widgetsnbextension~=3.6.0->ipywidgets) (1.5.0)\n",
            "Requirement already satisfied: mistune<2,>=0.8.1 in /usr/local/lib/python3.7/dist-packages (from nbconvert->notebook>=4.4.1->widgetsnbextension~=3.6.0->ipywidgets) (0.8.4)\n",
            "Requirement already satisfied: bleach in /usr/local/lib/python3.7/dist-packages (from nbconvert->notebook>=4.4.1->widgetsnbextension~=3.6.0->ipywidgets) (5.0.0)\n",
            "Requirement already satisfied: entrypoints>=0.2.2 in /usr/local/lib/python3.7/dist-packages (from nbconvert->notebook>=4.4.1->widgetsnbextension~=3.6.0->ipywidgets) (0.4)\n",
            "Requirement already satisfied: defusedxml in /usr/local/lib/python3.7/dist-packages (from nbconvert->notebook>=4.4.1->widgetsnbextension~=3.6.0->ipywidgets) (0.7.1)\n",
            "Requirement already satisfied: testpath in /usr/local/lib/python3.7/dist-packages (from nbconvert->notebook>=4.4.1->widgetsnbextension~=3.6.0->ipywidgets) (0.6.0)\n",
            "Requirement already satisfied: webencodings in /usr/local/lib/python3.7/dist-packages (from bleach->nbconvert->notebook>=4.4.1->widgetsnbextension~=3.6.0->ipywidgets) (0.5.1)\n"
          ]
        }
      ],
      "source": [
        "!pip install ipywidgets"
      ]
    },
    {
      "cell_type": "code",
      "execution_count": 23,
      "id": "d532156c-b390-4119-8a2d-8176bc1417d9",
      "metadata": {
        "execution": {
          "iopub.execute_input": "2022-05-07T04:07:08.954081Z",
          "iopub.status.busy": "2022-05-07T04:07:08.953680Z",
          "iopub.status.idle": "2022-05-07T04:07:08.960261Z",
          "shell.execute_reply": "2022-05-07T04:07:08.959312Z",
          "shell.execute_reply.started": "2022-05-07T04:07:08.954042Z"
        },
        "id": "d532156c-b390-4119-8a2d-8176bc1417d9"
      },
      "outputs": [],
      "source": [
        "import torch\n",
        "from torch import nn\n",
        "from torch.utils.data import DataLoader\n",
        "from torch import optim\n",
        "from torchvision import datasets\n",
        "from torchvision.transforms import ToTensor, Lambda, Compose, functional, RandomResizedCrop, Resize\n"
      ]
    },
    {
      "cell_type": "code",
      "execution_count": 34,
      "id": "c484d7d1-8155-400d-84a5-0ff69779d4f2",
      "metadata": {
        "execution": {
          "iopub.execute_input": "2022-05-07T04:07:10.327962Z",
          "iopub.status.busy": "2022-05-07T04:07:10.327710Z",
          "iopub.status.idle": "2022-05-07T04:07:10.345045Z",
          "shell.execute_reply": "2022-05-07T04:07:10.344119Z",
          "shell.execute_reply.started": "2022-05-07T04:07:10.327936Z"
        },
        "id": "c484d7d1-8155-400d-84a5-0ff69779d4f2"
      },
      "outputs": [],
      "source": [
        "# Training data\n",
        "data_transform = Compose([\n",
        "                                        RandomResizedCrop(500),\n",
        "                                        ToTensor(),\n",
        "                                        Resize(128),\n",
        "                                        ])\n",
        "\n",
        "training_data = datasets.Flowers102(\n",
        "                        root=\"data\",\n",
        "                        split=\"train\",\n",
        "                        download=True,\n",
        "                        transform=data_transform,\n",
        "                        )\n"
      ]
    },
    {
      "cell_type": "code",
      "execution_count": 35,
      "id": "6e538cb3-8b23-41c4-a6c7-a50061d389d5",
      "metadata": {
        "execution": {
          "iopub.execute_input": "2022-05-07T04:07:14.406230Z",
          "iopub.status.busy": "2022-05-07T04:07:14.405375Z",
          "iopub.status.idle": "2022-05-07T04:07:15.333207Z",
          "shell.execute_reply": "2022-05-07T04:07:15.332363Z",
          "shell.execute_reply.started": "2022-05-07T04:07:14.406184Z"
        },
        "id": "6e538cb3-8b23-41c4-a6c7-a50061d389d5"
      },
      "outputs": [],
      "source": [
        "test_data = datasets.Flowers102(\n",
        "                        root=\"data\",\n",
        "                        split=\"test\",\n",
        "                        download=True,\n",
        "                        transform=data_transform,\n",
        "                        )\n"
      ]
    },
    {
      "cell_type": "code",
      "execution_count": 36,
      "id": "ebe1c78b-ffe8-4a2a-be18-dbfc7295b23b",
      "metadata": {
        "execution": {
          "iopub.execute_input": "2022-05-07T04:07:16.603083Z",
          "iopub.status.busy": "2022-05-07T04:07:16.602689Z",
          "iopub.status.idle": "2022-05-07T04:07:16.641048Z",
          "shell.execute_reply": "2022-05-07T04:07:16.640177Z",
          "shell.execute_reply.started": "2022-05-07T04:07:16.603042Z"
        },
        "colab": {
          "base_uri": "https://localhost:8080/"
        },
        "id": "ebe1c78b-ffe8-4a2a-be18-dbfc7295b23b",
        "outputId": "c6a42b68-a115-4709-d492-4a9138c51d7b"
      },
      "outputs": [
        {
          "output_type": "execute_result",
          "data": {
            "text/plain": [
              "torch.Size([3, 128, 128])"
            ]
          },
          "metadata": {},
          "execution_count": 36
        }
      ],
      "source": [
        "training_data[1][0].size()"
      ]
    },
    {
      "cell_type": "code",
      "execution_count": 37,
      "id": "d235caf0-606e-468d-9dc0-7b0932871f2e",
      "metadata": {
        "execution": {
          "iopub.execute_input": "2022-05-07T04:07:19.217137Z",
          "iopub.status.busy": "2022-05-07T04:07:19.216847Z",
          "iopub.status.idle": "2022-05-07T04:07:19.223245Z",
          "shell.execute_reply": "2022-05-07T04:07:19.222057Z",
          "shell.execute_reply.started": "2022-05-07T04:07:19.217111Z"
        },
        "id": "d235caf0-606e-468d-9dc0-7b0932871f2e"
      },
      "outputs": [],
      "source": [
        "batch_sz = 32\n",
        "train_dataloader = DataLoader(training_data, batch_size=batch_sz)\n",
        "test_dataloader = DataLoader(test_data, batch_size=batch_sz)\n"
      ]
    },
    {
      "cell_type": "code",
      "execution_count": 38,
      "id": "c43f2e9a-cede-4a39-a844-92527455e9db",
      "metadata": {
        "execution": {
          "iopub.execute_input": "2022-05-07T04:07:20.415245Z",
          "iopub.status.busy": "2022-05-07T04:07:20.414867Z",
          "iopub.status.idle": "2022-05-07T04:07:20.935695Z",
          "shell.execute_reply": "2022-05-07T04:07:20.934449Z",
          "shell.execute_reply.started": "2022-05-07T04:07:20.415209Z"
        },
        "colab": {
          "base_uri": "https://localhost:8080/"
        },
        "id": "c43f2e9a-cede-4a39-a844-92527455e9db",
        "outputId": "877ba385-f879-472d-95f4-713fa6556b78"
      },
      "outputs": [
        {
          "output_type": "stream",
          "name": "stdout",
          "text": [
            "Shape of X [N, C, H, W]: torch.Size([32, 3, 128, 128])\n",
            "Shape of y: torch.Size([32]) torch.int64\n",
            "Using cuda device\n"
          ]
        }
      ],
      "source": [
        "for X, y in test_dataloader:\n",
        "    print(f\"Shape of X [N, C, H, W]: {X.shape}\")\n",
        "    print(f\"Shape of y: {y.shape} {y.dtype}\")\n",
        "    break\n",
        "device = \"cuda\" if torch.cuda.is_available() else \"cpu\"\n",
        "print(f\"Using {device} device\")\n"
      ]
    },
    {
      "cell_type": "code",
      "execution_count": 45,
      "id": "f8513458-272f-4be3-a41a-0b9b4c7800dd",
      "metadata": {
        "execution": {
          "iopub.status.busy": "2022-05-07T04:08:06.002921Z",
          "iopub.status.idle": "2022-05-07T04:08:06.003196Z",
          "shell.execute_reply": "2022-05-07T04:08:06.003066Z",
          "shell.execute_reply.started": "2022-05-07T04:08:06.003050Z"
        },
        "colab": {
          "base_uri": "https://localhost:8080/"
        },
        "id": "f8513458-272f-4be3-a41a-0b9b4c7800dd",
        "outputId": "5f5222b0-bc1d-4473-96ca-91452bfd3d6b"
      },
      "outputs": [
        {
          "output_type": "stream",
          "name": "stdout",
          "text": [
            "FlowerNet(\n",
            "  (flatten): Flatten(start_dim=1, end_dim=-1)\n",
            "  (conv_stack): Sequential(\n",
            "    (0): Conv2d(3, 20, kernel_size=(5, 5), stride=(1, 1))\n",
            "    (1): ReLU()\n",
            "    (2): MaxPool2d(kernel_size=5, stride=5, padding=0, dilation=1, ceil_mode=False)\n",
            "    (3): Conv2d(20, 50, kernel_size=(5, 5), stride=(1, 1))\n",
            "    (4): ReLU()\n",
            "    (5): MaxPool2d(kernel_size=5, stride=5, padding=0, dilation=1, ceil_mode=False)\n",
            "  )\n",
            "  (linear_stack): Sequential(\n",
            "    (0): Linear(in_features=800, out_features=512, bias=True)\n",
            "    (1): ReLU()\n",
            "    (2): Linear(in_features=512, out_features=102, bias=True)\n",
            "  )\n",
            ")\n"
          ]
        }
      ],
      "source": [
        "class FlowerNet(nn.Module):\n",
        "    def __init__(self):\n",
        "        super(FlowerNet, self).__init__()\n",
        "        self.flatten = nn.Flatten()\n",
        "        self.conv_stack = nn.Sequential(\n",
        "            nn.Conv2d(3, 20, 5),\n",
        "            nn.ReLU(),\n",
        "            nn.MaxPool2d(5),\n",
        "            nn.Conv2d(20, 50, 5),\n",
        "            nn.ReLU(),\n",
        "            nn.MaxPool2d(5)\n",
        "        )\n",
        "        \n",
        "        self.linear_stack = nn.Sequential(\n",
        "            nn.Linear(4*4*50, 512),\n",
        "            nn.ReLU(),\n",
        "            nn.Linear(512, 102)\n",
        "        )\n",
        "\n",
        "    def forward(self, x):\n",
        "        logits = self.conv_stack(x)\n",
        "        print(logits.shape)\n",
        "        logits = torch.flatten(logits,1,-1)\n",
        "        logits = self.linear_stack(logits)\n",
        "\n",
        "        return logits\n",
        "\n",
        "model = FlowerNet().to(device)\n",
        "print(model)"
      ]
    },
    {
      "cell_type": "code",
      "execution_count": 49,
      "id": "1e4f9450-549c-4945-ac1f-e2b8635e80a2",
      "metadata": {
        "colab": {
          "base_uri": "https://localhost:8080/",
          "height": 408
        },
        "id": "1e4f9450-549c-4945-ac1f-e2b8635e80a2",
        "outputId": "7a09b827-7205-4dd1-b906-74a9a93f486f"
      },
      "outputs": [
        {
          "output_type": "stream",
          "name": "stdout",
          "text": [
            "Running Epoch number: 0\n"
          ]
        },
        {
          "output_type": "error",
          "ename": "RuntimeError",
          "evalue": "ignored",
          "traceback": [
            "\u001b[0;31m---------------------------------------------------------------------------\u001b[0m",
            "\u001b[0;31mRuntimeError\u001b[0m                              Traceback (most recent call last)",
            "\u001b[0;32m<ipython-input-49-9b034bfa34cc>\u001b[0m in \u001b[0;36m<module>\u001b[0;34m()\u001b[0m\n\u001b[1;32m      9\u001b[0m   \u001b[0mbatch\u001b[0m \u001b[0;34m=\u001b[0m \u001b[0;36m0\u001b[0m\u001b[0;34m;\u001b[0m\u001b[0;34m\u001b[0m\u001b[0;34m\u001b[0m\u001b[0m\n\u001b[1;32m     10\u001b[0m   \u001b[0;32mfor\u001b[0m \u001b[0mx\u001b[0m\u001b[0;34m,\u001b[0m\u001b[0my\u001b[0m \u001b[0;32min\u001b[0m \u001b[0mtrain_dataloader\u001b[0m\u001b[0;34m:\u001b[0m\u001b[0;34m\u001b[0m\u001b[0;34m\u001b[0m\u001b[0m\n\u001b[0;32m---> 11\u001b[0;31m     \u001b[0moptimizer\u001b[0m\u001b[0;34m.\u001b[0m\u001b[0mzero_grad\u001b[0m\u001b[0;34m(\u001b[0m\u001b[0;34m)\u001b[0m   \u001b[0;31m# zero the gradient buffers\u001b[0m\u001b[0;34m\u001b[0m\u001b[0;34m\u001b[0m\u001b[0m\n\u001b[0m\u001b[1;32m     12\u001b[0m     \u001b[0mprint\u001b[0m\u001b[0;34m(\u001b[0m\u001b[0mx\u001b[0m\u001b[0;34m.\u001b[0m\u001b[0mshape\u001b[0m\u001b[0;34m,\u001b[0m \u001b[0mx\u001b[0m\u001b[0;34m.\u001b[0m\u001b[0mdtype\u001b[0m\u001b[0;34m)\u001b[0m\u001b[0;34m\u001b[0m\u001b[0;34m\u001b[0m\u001b[0m\n\u001b[1;32m     13\u001b[0m     \u001b[0mx\u001b[0m \u001b[0;34m=\u001b[0m \u001b[0mx\u001b[0m\u001b[0;34m.\u001b[0m\u001b[0mto\u001b[0m\u001b[0;34m(\u001b[0m\u001b[0mdevice\u001b[0m\u001b[0;34m)\u001b[0m\u001b[0;34m\u001b[0m\u001b[0;34m\u001b[0m\u001b[0m\n",
            "\u001b[0;32m/usr/local/lib/python3.7/dist-packages/torch/optim/optimizer.py\u001b[0m in \u001b[0;36mzero_grad\u001b[0;34m(self, set_to_none)\u001b[0m\n\u001b[1;32m    220\u001b[0m                                 \u001b[0mp\u001b[0m\u001b[0;34m.\u001b[0m\u001b[0mgrad\u001b[0m\u001b[0;34m.\u001b[0m\u001b[0mrequires_grad_\u001b[0m\u001b[0;34m(\u001b[0m\u001b[0;32mFalse\u001b[0m\u001b[0;34m)\u001b[0m\u001b[0;34m\u001b[0m\u001b[0;34m\u001b[0m\u001b[0m\n\u001b[1;32m    221\u001b[0m                             \u001b[0;32mif\u001b[0m \u001b[0;34m(\u001b[0m\u001b[0;32mnot\u001b[0m \u001b[0mforeach\u001b[0m \u001b[0;32mor\u001b[0m \u001b[0mp\u001b[0m\u001b[0;34m.\u001b[0m\u001b[0mgrad\u001b[0m\u001b[0;34m.\u001b[0m\u001b[0mis_sparse\u001b[0m\u001b[0;34m)\u001b[0m\u001b[0;34m:\u001b[0m\u001b[0;34m\u001b[0m\u001b[0;34m\u001b[0m\u001b[0m\n\u001b[0;32m--> 222\u001b[0;31m                                 \u001b[0mp\u001b[0m\u001b[0;34m.\u001b[0m\u001b[0mgrad\u001b[0m\u001b[0;34m.\u001b[0m\u001b[0mzero_\u001b[0m\u001b[0;34m(\u001b[0m\u001b[0;34m)\u001b[0m\u001b[0;34m\u001b[0m\u001b[0;34m\u001b[0m\u001b[0m\n\u001b[0m\u001b[1;32m    223\u001b[0m                             \u001b[0;32melse\u001b[0m\u001b[0;34m:\u001b[0m\u001b[0;34m\u001b[0m\u001b[0;34m\u001b[0m\u001b[0m\n\u001b[1;32m    224\u001b[0m                                 \u001b[0mper_device_and_dtype_grads\u001b[0m\u001b[0;34m[\u001b[0m\u001b[0mp\u001b[0m\u001b[0;34m.\u001b[0m\u001b[0mgrad\u001b[0m\u001b[0;34m.\u001b[0m\u001b[0mdevice\u001b[0m\u001b[0;34m]\u001b[0m\u001b[0;34m[\u001b[0m\u001b[0mp\u001b[0m\u001b[0;34m.\u001b[0m\u001b[0mgrad\u001b[0m\u001b[0;34m.\u001b[0m\u001b[0mdtype\u001b[0m\u001b[0;34m]\u001b[0m\u001b[0;34m.\u001b[0m\u001b[0mappend\u001b[0m\u001b[0;34m(\u001b[0m\u001b[0mp\u001b[0m\u001b[0;34m.\u001b[0m\u001b[0mgrad\u001b[0m\u001b[0;34m)\u001b[0m\u001b[0;34m\u001b[0m\u001b[0;34m\u001b[0m\u001b[0m\n",
            "\u001b[0;31mRuntimeError\u001b[0m: CUDA error: device-side assert triggered\nCUDA kernel errors might be asynchronously reported at some other API call,so the stacktrace below might be incorrect.\nFor debugging consider passing CUDA_LAUNCH_BLOCKING=1."
          ]
        }
      ],
      "source": [
        "# Define optimizer\n",
        "learning_rate = 0.01\n",
        "optimizer = optim.SGD(model.parameters(), lr=learning_rate)\n",
        "loss_criterion = nn.CrossEntropyLoss()\n",
        "num_epochs = 5\n",
        "# in your training loop:\n",
        "for i in range(num_epochs):\n",
        "  print(f\"Running Epoch number: {i}\")\n",
        "  batch = 0;\n",
        "  for x,y in train_dataloader:\n",
        "    optimizer.zero_grad()   # zero the gradient buffers\n",
        "    print(x.shape, x.dtype)\n",
        "    x = x.to(device)\n",
        "    y = y.to(device)\n",
        "    output = model(x)\n",
        "    print(output.shape)\n",
        "    print(y.shape)\n",
        "    loss = loss_criterion(output, y)\n",
        "    loss.backward()\n",
        "    optimizer.step()    # Does the updatefrom torch.utils.data import DataLoader\n",
        "    batch+=1\n",
        "    if(batch % 5):\n",
        "      print(f\"Loss value is: {loss}\")\n"
      ]
    },
    {
      "cell_type": "code",
      "source": [
        ""
      ],
      "metadata": {
        "id": "reD6vLD-yEu1"
      },
      "id": "reD6vLD-yEu1",
      "execution_count": null,
      "outputs": []
    }
  ],
  "metadata": {
    "kernelspec": {
      "display_name": "Python 3 (ipykernel)",
      "language": "python",
      "name": "python3"
    },
    "language_info": {
      "codemirror_mode": {
        "name": "ipython",
        "version": 3
      },
      "file_extension": ".py",
      "mimetype": "text/x-python",
      "name": "python",
      "nbconvert_exporter": "python",
      "pygments_lexer": "ipython3",
      "version": "3.8.12"
    },
    "colab": {
      "name": "first_experiment.ipynb",
      "provenance": [],
      "include_colab_link": true
    },
    "accelerator": "GPU"
  },
  "nbformat": 4,
  "nbformat_minor": 5
}